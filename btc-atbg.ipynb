{
 "cells": [
  {
   "cell_type": "markdown",
   "id": "f3236150",
   "metadata": {},
   "source": [
    "# Overview\n",
    "The script reads an mtx file called sample_4.mtx in the sample_dataset folder.  \n",
    "It then displays it in a cytoscape graph.  \n",
    "Requires the ipysytoscape library and Python 3  \n",
    "Tested on jupyter notebook with version pandas version 1.3.4"
   ]
  },
  {
   "cell_type": "code",
   "execution_count": 1,
   "id": "9cd7c5ba",
   "metadata": {},
   "outputs": [
    {
     "name": "stdout",
     "output_type": "stream",
     "text": [
      "Requirement already satisfied: ipycytoscape in /Library/Frameworks/Python.framework/Versions/3.12/lib/python3.12/site-packages (1.3.3)\n",
      "Requirement already satisfied: ipywidgets>=7.6.0 in /Library/Frameworks/Python.framework/Versions/3.12/lib/python3.12/site-packages (from ipycytoscape) (8.1.3)\n",
      "Requirement already satisfied: spectate>=1.0.0 in /Library/Frameworks/Python.framework/Versions/3.12/lib/python3.12/site-packages (from ipycytoscape) (1.0.1)\n",
      "Requirement already satisfied: comm>=0.1.3 in /Library/Frameworks/Python.framework/Versions/3.12/lib/python3.12/site-packages (from ipywidgets>=7.6.0->ipycytoscape) (0.2.2)\n",
      "Requirement already satisfied: ipython>=6.1.0 in /Library/Frameworks/Python.framework/Versions/3.12/lib/python3.12/site-packages (from ipywidgets>=7.6.0->ipycytoscape) (8.25.0)\n",
      "Requirement already satisfied: traitlets>=4.3.1 in /Library/Frameworks/Python.framework/Versions/3.12/lib/python3.12/site-packages (from ipywidgets>=7.6.0->ipycytoscape) (5.14.3)\n",
      "Requirement already satisfied: widgetsnbextension~=4.0.11 in /Library/Frameworks/Python.framework/Versions/3.12/lib/python3.12/site-packages (from ipywidgets>=7.6.0->ipycytoscape) (4.0.11)\n",
      "Requirement already satisfied: jupyterlab-widgets~=3.0.11 in /Library/Frameworks/Python.framework/Versions/3.12/lib/python3.12/site-packages (from ipywidgets>=7.6.0->ipycytoscape) (3.0.11)\n",
      "Requirement already satisfied: decorator in /Library/Frameworks/Python.framework/Versions/3.12/lib/python3.12/site-packages (from ipython>=6.1.0->ipywidgets>=7.6.0->ipycytoscape) (5.1.1)\n",
      "Requirement already satisfied: jedi>=0.16 in /Library/Frameworks/Python.framework/Versions/3.12/lib/python3.12/site-packages (from ipython>=6.1.0->ipywidgets>=7.6.0->ipycytoscape) (0.19.1)\n",
      "Requirement already satisfied: matplotlib-inline in /Library/Frameworks/Python.framework/Versions/3.12/lib/python3.12/site-packages (from ipython>=6.1.0->ipywidgets>=7.6.0->ipycytoscape) (0.1.7)\n",
      "Requirement already satisfied: prompt-toolkit<3.1.0,>=3.0.41 in /Library/Frameworks/Python.framework/Versions/3.12/lib/python3.12/site-packages (from ipython>=6.1.0->ipywidgets>=7.6.0->ipycytoscape) (3.0.46)\n",
      "Requirement already satisfied: pygments>=2.4.0 in /Library/Frameworks/Python.framework/Versions/3.12/lib/python3.12/site-packages (from ipython>=6.1.0->ipywidgets>=7.6.0->ipycytoscape) (2.18.0)\n",
      "Requirement already satisfied: stack-data in /Library/Frameworks/Python.framework/Versions/3.12/lib/python3.12/site-packages (from ipython>=6.1.0->ipywidgets>=7.6.0->ipycytoscape) (0.6.3)\n",
      "Requirement already satisfied: pexpect>4.3 in /Library/Frameworks/Python.framework/Versions/3.12/lib/python3.12/site-packages (from ipython>=6.1.0->ipywidgets>=7.6.0->ipycytoscape) (4.9.0)\n",
      "Requirement already satisfied: parso<0.9.0,>=0.8.3 in /Library/Frameworks/Python.framework/Versions/3.12/lib/python3.12/site-packages (from jedi>=0.16->ipython>=6.1.0->ipywidgets>=7.6.0->ipycytoscape) (0.8.4)\n",
      "Requirement already satisfied: ptyprocess>=0.5 in /Library/Frameworks/Python.framework/Versions/3.12/lib/python3.12/site-packages (from pexpect>4.3->ipython>=6.1.0->ipywidgets>=7.6.0->ipycytoscape) (0.7.0)\n",
      "Requirement already satisfied: wcwidth in /Library/Frameworks/Python.framework/Versions/3.12/lib/python3.12/site-packages (from prompt-toolkit<3.1.0,>=3.0.41->ipython>=6.1.0->ipywidgets>=7.6.0->ipycytoscape) (0.2.13)\n",
      "Requirement already satisfied: executing>=1.2.0 in /Library/Frameworks/Python.framework/Versions/3.12/lib/python3.12/site-packages (from stack-data->ipython>=6.1.0->ipywidgets>=7.6.0->ipycytoscape) (2.0.1)\n",
      "Requirement already satisfied: asttokens>=2.1.0 in /Library/Frameworks/Python.framework/Versions/3.12/lib/python3.12/site-packages (from stack-data->ipython>=6.1.0->ipywidgets>=7.6.0->ipycytoscape) (2.4.1)\n",
      "Requirement already satisfied: pure-eval in /Library/Frameworks/Python.framework/Versions/3.12/lib/python3.12/site-packages (from stack-data->ipython>=6.1.0->ipywidgets>=7.6.0->ipycytoscape) (0.2.2)\n",
      "Requirement already satisfied: six>=1.12.0 in /Library/Frameworks/Python.framework/Versions/3.12/lib/python3.12/site-packages (from asttokens>=2.1.0->stack-data->ipython>=6.1.0->ipywidgets>=7.6.0->ipycytoscape) (1.16.0)\n"
     ]
    }
   ],
   "source": [
    "!pip install ipycytoscape"
   ]
  },
  {
   "cell_type": "code",
   "execution_count": 2,
   "id": "12cd0eaf",
   "metadata": {},
   "outputs": [
    {
     "name": "stdout",
     "output_type": "stream",
     "text": [
      "Requirement already satisfied: pandas in /Library/Frameworks/Python.framework/Versions/3.12/lib/python3.12/site-packages (2.2.2)\n",
      "Requirement already satisfied: numpy>=1.26.0 in /Library/Frameworks/Python.framework/Versions/3.12/lib/python3.12/site-packages (from pandas) (1.26.4)\n",
      "Requirement already satisfied: python-dateutil>=2.8.2 in /Library/Frameworks/Python.framework/Versions/3.12/lib/python3.12/site-packages (from pandas) (2.9.0.post0)\n",
      "Requirement already satisfied: pytz>=2020.1 in /Library/Frameworks/Python.framework/Versions/3.12/lib/python3.12/site-packages (from pandas) (2024.1)\n",
      "Requirement already satisfied: tzdata>=2022.7 in /Library/Frameworks/Python.framework/Versions/3.12/lib/python3.12/site-packages (from pandas) (2024.1)\n",
      "Requirement already satisfied: six>=1.5 in /Library/Frameworks/Python.framework/Versions/3.12/lib/python3.12/site-packages (from python-dateutil>=2.8.2->pandas) (1.16.0)\n"
     ]
    }
   ],
   "source": [
    "!pip install pandas"
   ]
  },
  {
   "cell_type": "code",
   "execution_count": 3,
   "id": "8591bdde",
   "metadata": {},
   "outputs": [
    {
     "name": "stdout",
     "output_type": "stream",
     "text": [
      "2.2.2\n",
      "1.3.3\n",
      "2.0.9\n",
      "8.1.3\n"
     ]
    }
   ],
   "source": [
    "# Import all important libraries\n",
    "from scipy.io import mmread\n",
    "from scipy.io import mminfo\n",
    "import pandas as pd\n",
    "import numpy as np\n",
    "import requests\n",
    "# For reading the file\n",
    "import os\n",
    "import sys\n",
    "\n",
    "# For transforming into cytoscape\n",
    "import ipycytoscape\n",
    "import json\n",
    "import ipywidgets\n",
    "\n",
    "# Double checking versions\n",
    "print(pd.__version__) #had 1.3.4\n",
    "print(ipycytoscape.__version__) #had 1.3.2\n",
    "print(json.__version__) #had 2.0.9\n",
    "print(ipywidgets.__version__) #had 7.6.5"
   ]
  },
  {
   "cell_type": "code",
   "execution_count": 4,
   "id": "bbf19852",
   "metadata": {},
   "outputs": [],
   "source": [
    "# Set path and open file for reading\n",
    "# filespec = os.fspath('../sample_dataset/sample_4.mtx')\n",
    "# stream = open(filespec, 'r')"
   ]
  },
  {
   "cell_type": "code",
   "execution_count": 5,
   "id": "fdeeb576",
   "metadata": {},
   "outputs": [],
   "source": [
    "# #line = stream.readline()\n",
    "# # Skip lines that start with %\n",
    "# while line and line[0] in ['%', 37]:\n",
    "#     line = stream.readline()\n",
    "# # Skip empty lines\n",
    "# while not line.strip():\n",
    "#     line = stream.readline()"
   ]
  },
  {
   "cell_type": "code",
   "execution_count": 6,
   "id": "9e413863",
   "metadata": {},
   "outputs": [],
   "source": [
    "import requests\n",
    "import pandas as pd\n",
    "import json\n",
    "\n",
    "# Define the API URL\n",
    "URL = 'https://api.opendata.ocs.oraclecloud.com/data/landsat-4-5-tm/'\n"
   ]
  },
  {
   "cell_type": "code",
   "execution_count": 7,
   "id": "7b0214dc",
   "metadata": {},
   "outputs": [],
   "source": [
    "def fetch_json_data(url):\n",
    "    response = requests.get(url)\n",
    "    if response.status_code == 200:\n",
    "        return response.json()\n",
    "    else:\n",
    "        print(f\"Failed to retrieve data: {response.status_code}\")\n",
    "        return None\n",
    "\n",
    "data = fetch_json_data(URL)\n"
   ]
  },
  {
   "cell_type": "code",
   "execution_count": 8,
   "id": "400a972f",
   "metadata": {},
   "outputs": [
    {
     "name": "stdout",
     "output_type": "stream",
     "text": [
      "JSON Data: {\n",
      "  \"objects\": [],\n",
      "  \"prefixes\": [\n",
      "    \"001/\"\n",
      "  ],\n",
      "  \"nextStartWith\": \"001/058/LT05_L1TP_001058_20110430_20200822_02_T1_VAA.TIF\"\n",
      "}\n"
     ]
    }
   ],
   "source": [
    "def print_json_data(data):\n",
    "    print(\"JSON Data:\", json.dumps(data, indent=2))\n",
    "\n",
    "if data:\n",
    "    print_json_data(data)\n"
   ]
  },
  {
   "cell_type": "code",
   "execution_count": 9,
   "id": "d169ad90",
   "metadata": {},
   "outputs": [
    {
     "name": "stdout",
     "output_type": "stream",
     "text": [
      "Objects: []\n",
      "Prefixes: ['001/']\n",
      "Next Start With: 001/058/LT05_L1TP_001058_20110430_20200822_02_T1_VAA.TIF\n"
     ]
    }
   ],
   "source": [
    "def extract_relevant_parts(data):\n",
    "    objects = data.get('objects', [])\n",
    "    prefixes = data.get('prefixes', [])\n",
    "    next_start_with = data.get('nextStartWith', '')\n",
    "    return objects, prefixes, next_start_with\n",
    "\n",
    "objects, prefixes, next_start_with = extract_relevant_parts(data)\n",
    "\n",
    "def print_extracted_parts(objects, prefixes, next_start_with):\n",
    "    print(\"Objects:\", objects)\n",
    "    print(\"Prefixes:\", prefixes)\n",
    "    print(\"Next Start With:\", next_start_with)\n",
    "\n",
    "print_extracted_parts(objects, prefixes, next_start_with)\n"
   ]
  },
  {
   "cell_type": "code",
   "execution_count": 10,
   "id": "0928cb94",
   "metadata": {},
   "outputs": [],
   "source": [
    "def initialize_data_structures():\n",
    "    return [], [], 1  # edge_array, node_array, counter\n",
    "\n",
    "edge_array, node_array, counter = initialize_data_structures()\n"
   ]
  },
  {
   "cell_type": "code",
   "execution_count": 11,
   "id": "13bbd3ab",
   "metadata": {},
   "outputs": [
    {
     "name": "stdout",
     "output_type": "stream",
     "text": [
      "Split line: ['001', '058', 'LT05_L1TP_001058_20110430_20200822_02_T1_VAA.TIF']\n",
      "rows:  1  cols:  58  entries:  1\n"
     ]
    }
   ],
   "source": [
    "def process_line(line, edge_array, node_array, counter):\n",
    "    if line and line[0] not in ['%', '37']:\n",
    "        split_line = line.split('/')\n",
    "        print(\"Split line:\", split_line)\n",
    "        \n",
    "        numeric_parts = [part for part in split_line if part.isdigit()]\n",
    "        if len(numeric_parts) >= 2:\n",
    "            try:\n",
    "                rows, cols = map(int, numeric_parts[:2])\n",
    "                entries = 1  # Default entries to 1 if not specified\n",
    "                \n",
    "                print(\"rows: \", rows, \" cols: \", cols, \" entries: \", entries)\n",
    "                \n",
    "                node_source = {'id': rows, 'label': rows, 'classes': rows}\n",
    "                node_target = {'id': cols, 'label': cols, 'classes': cols}\n",
    "                if node_source not in node_array:\n",
    "                    node_array.append(node_source)\n",
    "                if node_target not in node_array:\n",
    "                    node_array.append(node_target)\n",
    "                \n",
    "                edge_entry = {'id': 'line ' + str(counter), 'source': rows, 'target': cols, 'weight': entries}\n",
    "                edge_array.append(edge_entry)\n",
    "                \n",
    "                counter += 1\n",
    "            except ValueError:\n",
    "                print(f\"Skipping invalid line due to ValueError: {line}\")\n",
    "        else:\n",
    "            print(f\"Skipping invalid line: {line}\")\n",
    "    return edge_array, node_array, counter\n",
    "\n",
    "edge_array, node_array, counter = process_line(next_start_with, edge_array, node_array, counter)\n"
   ]
  },
  {
   "cell_type": "code",
   "execution_count": 12,
   "id": "6e03b601",
   "metadata": {},
   "outputs": [
    {
     "name": "stdout",
     "output_type": "stream",
     "text": [
      "Node DataFrame Columns: Index(['id', 'label', 'classes'], dtype='object')\n",
      "Node DataFrame:\n",
      "   id  label  classes\n",
      "0   1      1        1\n",
      "1  58     58       58\n",
      "\n",
      "Edge DataFrame:\n",
      "       id  source  target  weight\n",
      "0  line 1       1      58       1\n"
     ]
    }
   ],
   "source": [
    "def convert_to_dataframe(edge_array, node_array):\n",
    "    node_df = pd.DataFrame(node_array)\n",
    "    edge_df = pd.DataFrame(edge_array, columns=['id', 'source', 'target', 'weight'])\n",
    "    return node_df, edge_df\n",
    "\n",
    "node_df, edge_df = convert_to_dataframe(edge_array, node_array)\n",
    "\n",
    "def print_dataframes(node_df, edge_df):\n",
    "    print(\"Node DataFrame Columns:\", node_df.columns)\n",
    "    print(\"Node DataFrame:\")\n",
    "    print(node_df)\n",
    "    print(\"\\nEdge DataFrame:\")\n",
    "    print(edge_df)\n",
    "\n",
    "print_dataframes(node_df, edge_df)\n"
   ]
  },
  {
   "cell_type": "code",
   "execution_count": 13,
   "id": "20ba20cc",
   "metadata": {},
   "outputs": [],
   "source": [
    "def assign_node_colors(node_df):\n",
    "    if not node_df.empty:\n",
    "        node_df['background-color'] = 'red'\n",
    "        node_df.loc[node_df['id'] <= 40, 'background-color'] = 'blue'\n",
    "        node_df.loc[node_df['id'] >= 100, 'background-color'] = 'orange'\n",
    "    return node_df\n",
    "\n",
    "node_df = assign_node_colors(node_df)\n"
   ]
  },
  {
   "cell_type": "code",
   "execution_count": 14,
   "id": "f954cffe",
   "metadata": {},
   "outputs": [
    {
     "name": "stdout",
     "output_type": "stream",
     "text": [
      "JSON Data: {\n",
      "  \"objects\": [],\n",
      "  \"prefixes\": [\n",
      "    \"001/\"\n",
      "  ],\n",
      "  \"nextStartWith\": \"001/058/LT05_L1TP_001058_20110430_20200822_02_T1_VAA.TIF\"\n",
      "}\n",
      "Objects: []\n",
      "Prefixes: ['001/']\n",
      "Next Start With: 001/058/LT05_L1TP_001058_20110430_20200822_02_T1_VAA.TIF\n",
      "Split line: ['001', '058', 'LT05_L1TP_001058_20110430_20200822_02_T1_VAA.TIF']\n",
      "rows:  1  cols:  58  entries:  1\n",
      "Node DataFrame Columns: Index(['id', 'label', 'classes', 'background-color'], dtype='object')\n",
      "Node DataFrame:\n",
      "   id  label  classes background-color\n",
      "0   1      1        1             blue\n",
      "1  58     58       58              red\n",
      "\n",
      "Edge DataFrame:\n",
      "       id  source  target  weight\n",
      "0  line 1       1      58       1\n"
     ]
    }
   ],
   "source": [
    "def main():\n",
    "    data = fetch_json_data(URL)\n",
    "    if data:\n",
    "        print_json_data(data)\n",
    "        objects, prefixes, next_start_with = extract_relevant_parts(data)\n",
    "        print_extracted_parts(objects, prefixes, next_start_with)\n",
    "        edge_array, node_array, counter = initialize_data_structures()\n",
    "        edge_array, node_array, counter = process_line(next_start_with, edge_array, node_array, counter)\n",
    "        node_df, edge_df = convert_to_dataframe(edge_array, node_array)\n",
    "        node_df = assign_node_colors(node_df)\n",
    "        print_dataframes(node_df, edge_df)\n",
    "\n",
    "main()\n"
   ]
  },
  {
   "cell_type": "code",
   "execution_count": 15,
   "id": "b9df1032",
   "metadata": {},
   "outputs": [],
   "source": [
    "def convert_to_dict_records(nodes_df, edges_df):\n",
    "    nodes_dict = nodes_df.to_dict('records')\n",
    "    edges_dict = edges_df.to_dict('records')\n",
    "    return nodes_dict, edges_dict\n"
   ]
  },
  {
   "cell_type": "code",
   "execution_count": 16,
   "id": "a17dc9c7",
   "metadata": {},
   "outputs": [],
   "source": [
    "def build_nodes_graph_list(nodes_dict):\n",
    "    data_keys = ['id', 'label', 'classes']\n",
    "    position_keys = ['position_x', 'position_y']\n",
    "    rest_keys = ['score', 'idInt', 'name', 'group', 'removed', 'selected', 'selectable', 'locked', 'grabbed', 'grabbable']\n",
    "\n",
    "    nodes_graph_list = []\n",
    "    for node in nodes_dict:\n",
    "        data_sub_dict = {'data': {el: node[el] for el in data_keys}}\n",
    "        rest_sub_dict = {el: node[el] for el in node.keys() if el in rest_keys}\n",
    "        posi_sub_dict = {}\n",
    "        if 'position_x' in node.keys() and 'position_y' in node.keys():\n",
    "            posi_sub_dict = {'position': {el: node[el] for el in position_keys}}\n",
    "\n",
    "        dict_node = {**data_sub_dict, **rest_sub_dict, **posi_sub_dict}\n",
    "        nodes_graph_list.append(dict_node)\n",
    "\n",
    "    return nodes_graph_list\n"
   ]
  },
  {
   "cell_type": "code",
   "execution_count": 17,
   "id": "ecee45a5",
   "metadata": {},
   "outputs": [],
   "source": [
    "def build_edges_graph_list(edges_dict):\n",
    "    data_keys = ['id', 'source', 'target']\n",
    "    data_keys2 = ['label', 'classes']\n",
    "    rest_keys = ['score', 'weight', 'group', 'networkId', 'networkGroupId', 'intn', 'rIntnId', 'removed', 'selected', 'selectable', 'locked', 'grabbed', 'grabbable']\n",
    "\n",
    "    edges_graph_list = []\n",
    "    for edge in edges_dict:\n",
    "        data_sub_dict = {el: edge[el] for el in data_keys}\n",
    "        data_sub_dict2 = {el: edge[el] for el in edge.keys() if el in data_keys2}\n",
    "        rest_sub_dict = {el: edge[el] for el in edge.keys() if el in rest_keys}\n",
    "\n",
    "        dict_edge = {'data': {**data_sub_dict, **data_sub_dict2}, **rest_sub_dict}\n",
    "        edges_graph_list.append(dict_edge)\n",
    "\n",
    "    return edges_graph_list\n"
   ]
  },
  {
   "cell_type": "code",
   "execution_count": 18,
   "id": "649e4754",
   "metadata": {},
   "outputs": [],
   "source": [
    "def build_style_elements_list(nodes_dict, edges_dict):\n",
    "    all_node_style = ['background-color', 'background-opacity', 'font-family', 'font-size', 'label', 'width', 'shape', 'height', 'text-valign', 'text-halign']\n",
    "    all_edge_style = ['background-color', 'background-opacity', 'font-family', 'font-size', 'label', 'width', 'line-color']\n",
    "\n",
    "    style_elements = []\n",
    "    for node in nodes_dict:\n",
    "        node_dict = {'selector': f'node[id = \"{node[\"id\"]}\"]'}\n",
    "        style_dict = {\"style\": {el: node[el] for el in node.keys() if el in all_node_style}}\n",
    "        node_dict.update(style_dict)\n",
    "        style_elements.append(node_dict)\n",
    "\n",
    "    for edge in edges_dict:\n",
    "        edge_dict = {'selector': f'edge[id = \"{edge[\"id\"]}\"]'}\n",
    "        style_dict = {\"style\": {el: edge[el] for el in edge.keys() if el in all_edge_style}}\n",
    "        edge_dict.update(style_dict)\n",
    "        style_elements.append(edge_dict)\n",
    "\n",
    "    return style_elements\n"
   ]
  },
  {
   "cell_type": "code",
   "execution_count": 19,
   "id": "88d9d528",
   "metadata": {},
   "outputs": [],
   "source": [
    "import ipycytoscape\n",
    "\n",
    "def transform_into_ipycytoscape(nodes_df, edges_df):\n",
    "    nodes_dict, edges_dict = convert_to_dict_records(nodes_df, edges_df)\n",
    "    \n",
    "    nodes_graph_list = build_nodes_graph_list(nodes_dict)\n",
    "    edges_graph_list = build_edges_graph_list(edges_dict)\n",
    "    \n",
    "    total_graph_dict = {'nodes': nodes_graph_list, 'edges': edges_graph_list}\n",
    "\n",
    "    style_elements = build_style_elements_list(nodes_dict, edges_dict)\n",
    "\n",
    "    data_graph = json.dumps(total_graph_dict)\n",
    "    json_to_python = json.loads(data_graph)\n",
    "    \n",
    "    result_cyto = ipycytoscape.CytoscapeWidget()\n",
    "    result_cyto.graph.add_graph_from_json(json_to_python)\n",
    "    result_cyto.set_style(style_elements)\n",
    "    \n",
    "    return result_cyto\n"
   ]
  },
  {
   "cell_type": "code",
   "execution_count": 20,
   "id": "030a17ea",
   "metadata": {},
   "outputs": [
    {
     "data": {
      "application/vnd.jupyter.widget-view+json": {
       "model_id": "0a81f11e704c4281846eb39b41661f3a",
       "version_major": 2,
       "version_minor": 0
      },
      "text/plain": [
       "CytoscapeWidget(cytoscape_layout={'name': 'cola'}, cytoscape_style=[{'selector': 'node[id = \"1\"]', 'style': {'…"
      ]
     },
     "metadata": {},
     "output_type": "display_data"
    }
   ],
   "source": [
    "G = transform_into_ipycytoscape(node_df, edge_df)\n",
    "display(G)\n"
   ]
  },
  {
   "cell_type": "code",
   "execution_count": 21,
   "id": "88a31d3e",
   "metadata": {},
   "outputs": [
    {
     "data": {
      "image/png": "[encoded data removed]",
      "text/plain": [
       "<Figure size 1000x600 with 1 Axes>"
      ]
     },
     "metadata": {},
     "output_type": "display_data"
    }
   ],
   "source": [
    "import pandas as pd\n",
    "import matplotlib.pyplot as plt\n",
    "\n",
    "# Sample data\n",
    "data = {\n",
    "    'transaction_id': [1, 2, 3, 4, 5, 6, 7],\n",
    "    'address_id': [100, 101, 102, 100, 101, 103, 104],\n",
    "    'date': pd.to_datetime(['2022-01-01', '2022-01-02', '2022-01-03', '2022-01-01', '2022-01-02', '2022-01-03', '2022-01-04'])\n",
    "}\n",
    "\n",
    "df = pd.DataFrame(data)\n",
    "\n",
    "# Aggregate the number of transactions per day\n",
    "transaction_volume = df.groupby(df['date'].dt.date).size().reset_index(name='transaction_count')\n",
    "\n",
    "# Plot the transaction volume over time\n",
    "plt.figure(figsize=(10, 6))\n",
    "plt.plot(transaction_volume['date'], transaction_volume['transaction_count'], marker='o')\n",
    "plt.title('Bitcoin Transaction Volume Over Time')\n",
    "plt.xlabel('Date')\n",
    "plt.ylabel('Number of Transactions')\n",
    "plt.grid(True)\n",
    "plt.show()\n"
   ]
  }
 ],
 "metadata": {
  "kernelspec": {
   "display_name": "Python 3",
   "language": "python",
   "name": "python3"
  },
  "language_info": {
   "codemirror_mode": {
    "name": "ipython",
    "version": 3
   },
   "file_extension": ".py",
   "mimetype": "text/x-python",
   "name": "python",
   "nbconvert_exporter": "python",
   "pygments_lexer": "ipython3",
   "version": "3.12.3"
  }
 },
 "nbformat": 4,
 "nbformat_minor": 5
}
